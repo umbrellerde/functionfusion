{
 "cells": [
  {
   "cell_type": "code",
   "execution_count": 4,
   "metadata": {},
   "outputs": [],
   "source": [
    "%run -i setup_stats.py\n",
    "%matplotlib inline"
   ]
  },
  {
   "cell_type": "code",
   "execution_count": 6,
   "metadata": {},
   "outputs": [],
   "source": [
    "def print_comparision_stats(oldP, newP):\n",
    "    (odf, ogrouped, ofusion_groups_order) = get_df_grouped(oldP)\n",
    "    (ndf, ngrouped, nfusion_groups_order) = get_df_grouped(newP)\n",
    "\n",
    "    print(f\"odf len: ${len(odf)}\")\n",
    "    print(f\"ndf len: ${len(ndf)}\")\n",
    "\n",
    "    print(f\"odf cold start rel. freq: ${odf.isColdStart.sum() / len(odf)}\")\n",
    "    print(f\"ndf cold start rel. freq: ${ndf.isColdStart.sum() / len(ndf)}\")\n",
    "        "
   ]
  },
  {
   "cell_type": "code",
   "execution_count": 7,
   "metadata": {},
   "outputs": [
    {
     "name": "stdout",
     "output_type": "stream",
     "text": [
      "evalScripts/IoT/generateConfigurations/statistics/dualcore-I-100x10x11\n"
     ]
    },
    {
     "name": "stderr",
     "output_type": "stream",
     "text": [
      "/home/trever/git/umbrellerde/functionfusion/statistics/extended/setup_stats.py:56: FutureWarning: merging between different levels is deprecated and will be removed in a future version. (2 levels on the left, 1 on the right)\n",
      "  grouped = pd.merge(grouped, rootInvocations, how=\"left\", on=\"traceId\")\n",
      "/home/trever/git/umbrellerde/functionfusion/statistics/extended/setup_stats.py:56: FutureWarning: merging between different levels is deprecated and will be removed in a future version. (2 levels on the left, 1 on the right)\n",
      "  grouped = pd.merge(grouped, rootInvocations, how=\"left\", on=\"traceId\")\n"
     ]
    },
    {
     "name": "stdout",
     "output_type": "stream",
     "text": [
      "odf len: $76012\n",
      "ndf len: $80604\n",
      "odf cold start rel. freq: $0.0367705099194864\n",
      "ndf cold start rel. freq: $0.08467321721006402\n",
      "evalScripts/IoT/manualOptimizerConstantLoad/statistics/bursty_workload-4\n"
     ]
    },
    {
     "name": "stderr",
     "output_type": "stream",
     "text": [
      "/home/trever/git/umbrellerde/functionfusion/statistics/extended/setup_stats.py:56: FutureWarning: merging between different levels is deprecated and will be removed in a future version. (2 levels on the left, 1 on the right)\n",
      "  grouped = pd.merge(grouped, rootInvocations, how=\"left\", on=\"traceId\")\n"
     ]
    },
    {
     "name": "stdout",
     "output_type": "stream",
     "text": [
      "odf len: $6743\n",
      "ndf len: $7751\n",
      "odf cold start rel. freq: $0.18626724010084533\n",
      "ndf cold start rel. freq: $0.18307315185137402\n"
     ]
    },
    {
     "name": "stderr",
     "output_type": "stream",
     "text": [
      "/home/trever/git/umbrellerde/functionfusion/statistics/extended/setup_stats.py:56: FutureWarning: merging between different levels is deprecated and will be removed in a future version. (2 levels on the left, 1 on the right)\n",
      "  grouped = pd.merge(grouped, rootInvocations, how=\"left\", on=\"traceId\")\n"
     ]
    }
   ],
   "source": [
    "comparables = [\n",
    " (\"evalScripts/IoT/generateConfigurations/statistics/dualcore-I-100x10x11\", \"evalScripts/IoT/generateConfigurations/statistics/dualcore_newDist-I-12-x-100-x-10\"),\n",
    " (\"evalScripts/IoT/manualOptimizerConstantLoad/statistics/bursty_workload-4\", \"evalScripts/IoT/manualOptimizerConstantLoad/statistics/bursty_workload-4_newDist\")\n",
    "]\n",
    "\n",
    "for i in comparables:\n",
    "    print(i[0])\n",
    "    print_comparision_stats(i[0], i[1])"
   ]
  },
  {
   "cell_type": "code",
   "execution_count": null,
   "metadata": {},
   "outputs": [],
   "source": []
  }
 ],
 "metadata": {
  "kernelspec": {
   "display_name": "Python 3",
   "language": "python",
   "name": "python3"
  },
  "language_info": {
   "codemirror_mode": {
    "name": "ipython",
    "version": 3
   },
   "file_extension": ".py",
   "mimetype": "text/x-python",
   "name": "python",
   "nbconvert_exporter": "python",
   "pygments_lexer": "ipython3",
   "version": "3.11.3"
  },
  "orig_nbformat": 4
 },
 "nbformat": 4,
 "nbformat_minor": 2
}
