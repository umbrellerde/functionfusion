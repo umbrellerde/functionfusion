{
 "cells": [
  {
   "cell_type": "code",
   "execution_count": null,
   "metadata": {},
   "outputs": [],
   "source": []
  },
  {
   "cell_type": "code",
   "execution_count": 1,
   "metadata": {},
   "outputs": [],
   "source": [
    "import numpy as np\n",
    "import pandas as pd\n",
    "import seaborn as sns\n",
    "from matplotlib import pyplot as plt\n",
    "import matplotlib\n",
    "%matplotlib inline\n",
    "\n",
    "sns.set(rc={'figure.figsize':(6,3)}, font_scale=1.0, style='whitegrid', font='CMU Sans Serif')\n",
    "matplotlib.rcParams['pdf.fonttype'] = 42\n",
    "matplotlib.rcParams['ps.fonttype'] = 42\n",
    "plt.rc('axes', unicode_minus=False)\n",
    "\n",
    "def df_grouped_order_from_data(data):\n",
    "    new_fs_names = {\n",
    "        \"(AS)-(CA)-(CS)-(CSA)-(CSL)-(CT)-(CW)-(DJ)-(I)-(SE)\": \"IoT$_0$\",\n",
    "        \"(AS)-(CA,DJ)-(CS)-(CSA)-(CSL)-(CT)-(CW)-(I)-(SE)\": \"IoT$_1$\",\n",
    "        \"(AS)-(CA,DJ)-(CS,CSA)-(CSL)-(CT)-(CW)-(I)-(SE)\": \"IoT$_2$\",\n",
    "        \"(AS)-(CA,DJ)-(CS,CSA,CSL)-(CT)-(CW)-(I)-(SE)\": \"IoT$_3$\",\n",
    "        \"(AS)-(CA,DJ)-(CS,CSA,CSL)-(CT)-(CW,SE)-(I)\": \"IoT$_4$\",\n",
    "        \"(AS)-(CA,DJ)-(CS,CSA,CSL)-(CT)-(CW,I,SE)\": \"IoT$_5$\",\n",
    "        \"(A)-(B)-(C)-(D)-(E)-(F)-(G)\": \"Tree$_0$\",\n",
    "        \"(A,E)-(B)-(C)-(D)-(F)-(G)\": \"Tree$_1$\",\n",
    "        \"(A,D,E)-(B)-(C)-(F)-(G)\": \"Tree$_2$\",\n",
    "        \"(A,B,D,E)-(C)-(F)-(G)\": \"Tree$_3$\",\n",
    "    }\n",
    "\n",
    "    df = pd.DataFrame.from_dict(data)\n",
    "\n",
    "    # Get the smallest Start timestamp and remove it from every timestamp value\n",
    "    min_start_timestamp = df[\"startTimestamp\"].min()\n",
    "    df[\"startTimestamp\"] = df[\"startTimestamp\"] - min_start_timestamp\n",
    "    df[\"endTimestamp\"] = df[\"endTimestamp\"] - min_start_timestamp\n",
    "    df[\"duration\"] =  df[\"endTimestamp\"] - df[\"startTimestamp\"]\n",
    "    df[\"fusionGroup\"] = \"(\" + df[\"fusionGroup\"].str.replace(\",\", \")-(\", regex=False) + \")\"\n",
    "    df[\"fusionGroup\"] = df[\"fusionGroup\"].str.replace(\".\", \",\", regex=False)\n",
    "    df[\"fusionGroup\"] = df[\"fusionGroup\"].map(new_fs_names)\n",
    "\n",
    "    # Now do not count every invocation, but sort the df by the cost of trace\n",
    "    grouped = df.groupby('traceId').agg({'billedDuration': ['sum'], 'startTimestamp': ['min'], 'endTimestamp': ['max'], 'fusionGroup': 'min'})\n",
    "    #grouped['numInvocations'] = df.groupby('traceId').count()\n",
    "    grouped['numInvocations'] = df.groupby('traceId').size()\n",
    "    print(f'Total Number of Invocations should be: {grouped[\"numInvocations\"].sum()} == {len(df.index)}')\n",
    "    # Grouped: Get Root Invocation of TraceId and get rootEndTimestamp\n",
    "    # Pandas join() oder merge() machen mit dem alten Dataframe. Merge ist einfacher\n",
    "    rootInvocations = df[df[\"isRootInvocation\"]][[\"traceId\", \"endTimestamp\"]].rename(columns={\"endTimestamp\": \"rootEndTimestamp\"})\n",
    "    grouped = pd.merge(grouped, rootInvocations, how=\"left\", on=\"traceId\")\n",
    "    grouped[\"rootDuration\"] = grouped[\"rootEndTimestamp\"] - grouped[\"startTimestamp\", \"min\"]\n",
    "\n",
    "    fusion_groups_order = pd.unique(grouped.sort_values(by=\"rootEndTimestamp\")['fusionGroup', 'min'])\n",
    "    return (df,grouped,fusion_groups_order)"
   ]
  },
  {
   "cell_type": "code",
   "execution_count": 2,
   "metadata": {},
   "outputs": [
    {
     "name": "stdout",
     "output_type": "stream",
     "text": [
      "['#4c72b0', '#dd8452', '#55a868', '#c44e52', '#8172b3', '#937860', '#da8bc3', '#8c8c8c', '#ccb974', '#64b5cd']\n"
     ]
    }
   ],
   "source": [
    "print(sns.color_palette().as_hex())\n"
   ]
  },
  {
   "cell_type": "code",
   "execution_count": 3,
   "metadata": {},
   "outputs": [],
   "source": [
    "def save_fig(ax, name, folder, file_type=\"pdf\"):\n",
    "    fig = ax.get_figure()\n",
    "    fig.tight_layout()\n",
    "    file_name = name + \".\" + file_type\n",
    "    fig.savefig(os.path.join(folder, file_name), bbox_inches='tight')\n",
    "    plt.close()\n",
    "\n",
    "def save_plots(grouped, fusion_groups_order, billed_min_max, rr_min_max, cmap, ncols, bbox=None, legend_font=None, legend=True):\n",
    "\n",
    "    fig, (ax1, ax2) = plt.subplots(1, 2, figsize=(12,3))\n",
    "\n",
    "    ax1.set_xlim(rr_min_max)\n",
    "    ax1.set_xlabel(\"Request Response Latency [ms]\")\n",
    "    ax1.set_ylabel(\"Cumulative Distribution\")\n",
    "    ax2.set_xlim(billed_min_max)\n",
    "    ax2.set_xlabel(\"Billed Duration [ms]\")\n",
    "    ax2.set_ylabel(\"Cumulative Distribution\")\n",
    "\n",
    "    sns.ecdfplot(ax=ax1, data=grouped, x=grouped['rootDuration'], hue=grouped['fusionGroup', 'min'], hue_order=fusion_groups_order, legend=None,palette=cmap)\n",
    "\n",
    "    sns.ecdfplot(ax=ax2, data=grouped, x=grouped['billedDuration', 'sum'], hue=grouped['fusionGroup', 'min'], hue_order=fusion_groups_order, legend=None, palette=cmap)\n",
    "\n",
    "    if legend:\n",
    "        fig.legend(handles=reversed(ax1.get_lines()), labels=list(order), ncol=ncols, loc=\"upper center\", title=\"Fusion Group Setup\", fontsize=legend_font, bbox_to_anchor=bbox)\n",
    "        print(ax1.get_lines())\n",
    "\n",
    "    return fig"
   ]
  },
  {
   "cell_type": "code",
   "execution_count": 4,
   "metadata": {},
   "outputs": [],
   "source": [
    "from scipy.stats import t\n",
    "def printMeanAndCi(x, grouped, name=\"\"):\n",
    "    m = x.mean() \n",
    "    s = x.std() \n",
    "    dof = len(grouped)-1 \n",
    "    confidence = 0.95\n",
    "\n",
    "    t_crit = np.abs(t.ppf((1-confidence)/2,dof))\n",
    "    print(f'Mean: {m:7.2f}, Confidence Interval: ({m-s*t_crit/np.sqrt(len(x)):7.2f} / {m+s*t_crit/np.sqrt(len(x)):7.2f}), Median: {x.median()} for {name}')\n",
    "\n",
    "def printStats(grouped, fusion_groups_order):\n",
    "    print(\"overall\")\n",
    "    printMeanAndCi(grouped[\"rootDuration\"], grouped, \"rootDuration\")\n",
    "    printMeanAndCi(grouped['billedDuration', 'sum'], grouped, \"billedDuration\")\n",
    "    for group in fusion_groups_order:\n",
    "        filtered = grouped[grouped['fusionGroup', 'min'] == group]\n",
    "        print(group)\n",
    "        printMeanAndCi(filtered[\"rootDuration\"], grouped, f'rootDuration')\n",
    "        printMeanAndCi(filtered['billedDuration', 'sum'], grouped, f'billedDuration')"
   ]
  },
  {
   "cell_type": "code",
   "execution_count": 5,
   "metadata": {},
   "outputs": [],
   "source": [
    "# custom color maps because brown is ugly af\n",
    "cmap = sns.color_palette(as_cmap=True)\n",
    "orig_cmap = cmap[:4]\n",
    "mod_cmap = [cmap[0], cmap[5], cmap[2], cmap[3], cmap[4], cmap[1]]"
   ]
  },
  {
   "cell_type": "code",
   "execution_count": 6,
   "metadata": {},
   "outputs": [
    {
     "name": "stdout",
     "output_type": "stream",
     "text": [
      "Read fusion group AS,CA.DJ,CS.CSA.CSL,CT,CW.I.SE with 3595 lines\n",
      "Read fusion group AS,CA.DJ,CS,CSA,CSL,CT,CW,I,SE with 2994 lines\n",
      "Read fusion group AS,CA.DJ,CS.CSA.CSL,CT,CW.SE,I with 2400 lines\n",
      "Read fusion group AS,CA.DJ,CS.CSA,CSL,CT,CW,I,SE with 2697 lines\n",
      "Read fusion group AS,CA.DJ,CS.CSA.CSL,CT,CW,I,SE with 2398 lines\n",
      "Read fusion group AS,CA,CS,CSA,CSL,CT,CW,DJ,I,SE with 3291 lines\n",
      "Total Number of Invocations should be: 17375 == 17375\n"
     ]
    },
    {
     "name": "stderr",
     "output_type": "stream",
     "text": [
      "/var/folders/2f/b2y6thfs2051_m0fs57vb_sc0000gn/T/ipykernel_99618/4287767820.py:46: FutureWarning: merging between different levels is deprecated and will be removed in a future version. (2 levels on the left,1 on the right)\n",
      "  grouped = pd.merge(grouped, rootInvocations, how=\"left\", on=\"traceId\")\n",
      "/var/folders/2f/b2y6thfs2051_m0fs57vb_sc0000gn/T/ipykernel_99618/873684309.py:62: UserWarning: Matplotlib is currently using module://matplotlib_inline.backend_inline, which is a non-GUI backend, so cannot show the figure.\n",
      "  p.show()\n",
      "webf NOT subset; don't know how to subset; dropped\n"
     ]
    },
    {
     "name": "stdout",
     "output_type": "stream",
     "text": [
      "Read fusion group AS,CA.DJ,CS.CSA.CSL,CT,CW.I.SE with 11577 lines\n",
      "Read fusion group AS,CA.DJ,CS,CSA,CSL,CT,CW,I,SE with 9543 lines\n",
      "Read fusion group AS,CA.DJ,CS.CSA.CSL,CT,CW.SE,I with 7701 lines\n",
      "Read fusion group AS,CA.DJ,CS.CSA,CSL,CT,CW,I,SE with 8665 lines\n",
      "Read fusion group AS,CA.DJ,CS.CSA.CSL,CT,CW,I,SE with 7676 lines\n",
      "Read fusion group AS,CA,CS,CSA,CSL,CT,CW,DJ,I,SE with 10479 lines\n",
      "Total Number of Invocations should be: 55641 == 55641\n",
      "<a list of 6 Line2D objects>\n"
     ]
    },
    {
     "name": "stderr",
     "output_type": "stream",
     "text": [
      "/var/folders/2f/b2y6thfs2051_m0fs57vb_sc0000gn/T/ipykernel_99618/4287767820.py:46: FutureWarning: merging between different levels is deprecated and will be removed in a future version. (2 levels on the left,1 on the right)\n",
      "  grouped = pd.merge(grouped, rootInvocations, how=\"left\", on=\"traceId\")\n",
      "/var/folders/2f/b2y6thfs2051_m0fs57vb_sc0000gn/T/ipykernel_99618/873684309.py:62: UserWarning: Matplotlib is currently using module://matplotlib_inline.backend_inline, which is a non-GUI backend, so cannot show the figure.\n",
      "  p.show()\n",
      "webf NOT subset; don't know how to subset; dropped\n",
      "/var/folders/2f/b2y6thfs2051_m0fs57vb_sc0000gn/T/ipykernel_99618/4287767820.py:46: FutureWarning: merging between different levels is deprecated and will be removed in a future version. (2 levels on the left,1 on the right)\n",
      "  grouped = pd.merge(grouped, rootInvocations, how=\"left\", on=\"traceId\")\n",
      "/var/folders/2f/b2y6thfs2051_m0fs57vb_sc0000gn/T/ipykernel_99618/873684309.py:62: UserWarning: Matplotlib is currently using module://matplotlib_inline.backend_inline, which is a non-GUI backend, so cannot show the figure.\n",
      "  p.show()\n"
     ]
    },
    {
     "name": "stdout",
     "output_type": "stream",
     "text": [
      "Read fusion group A.E,B,C,D,F,G with 2100 lines\n",
      "Read fusion group A.D.E,B,C,F,G with 1799 lines\n",
      "Read fusion group A.B.D.E,C,F,G with 3594 lines\n",
      "Read fusion group A,B,C,D,E,F,G with 2050 lines\n",
      "Total Number of Invocations should be: 9543 == 9543\n"
     ]
    },
    {
     "name": "stderr",
     "output_type": "stream",
     "text": [
      "webf NOT subset; don't know how to subset; dropped\n"
     ]
    },
    {
     "name": "stdout",
     "output_type": "stream",
     "text": [
      "Read fusion group A.E,B,C,D,F,G with 6844 lines\n",
      "Read fusion group A.D.E,B,C,F,G with 5891 lines\n",
      "Read fusion group A.B.D.E,C,F,G with 7824 lines\n",
      "Read fusion group A,B,C,D,E,F,G with 6891 lines\n"
     ]
    },
    {
     "name": "stderr",
     "output_type": "stream",
     "text": [
      "/var/folders/2f/b2y6thfs2051_m0fs57vb_sc0000gn/T/ipykernel_99618/4287767820.py:46: FutureWarning: merging between different levels is deprecated and will be removed in a future version. (2 levels on the left,1 on the right)\n",
      "  grouped = pd.merge(grouped, rootInvocations, how=\"left\", on=\"traceId\")\n",
      "/var/folders/2f/b2y6thfs2051_m0fs57vb_sc0000gn/T/ipykernel_99618/873684309.py:62: UserWarning: Matplotlib is currently using module://matplotlib_inline.backend_inline, which is a non-GUI backend, so cannot show the figure.\n",
      "  p.show()\n",
      "webf NOT subset; don't know how to subset; dropped\n"
     ]
    },
    {
     "name": "stdout",
     "output_type": "stream",
     "text": [
      "Total Number of Invocations should be: 27450 == 27450\n",
      "<a list of 4 Line2D objects>\n"
     ]
    }
   ],
   "source": [
    "import json\n",
    "import os\n",
    "\n",
    "final_tests = [\n",
    "    {\n",
    "        \"folder\": \"results/finalTests/IoT-coldStart-latency-7x300\",\n",
    "        \"billed_mm\": (7000,20000),\n",
    "        \"rr_mm\": (1700,4500),\n",
    "        \"legend\": False,\n",
    "        \"ncols\": 6,\n",
    "        \"bbox\": None,\n",
    "        \"cmap\": mod_cmap,\n",
    "    },\n",
    "    {\n",
    "        \"folder\": \"results/finalTests/IoT-normal-latency-7x1000\",\n",
    "        \"billed_mm\": (600,3500),\n",
    "        \"rr_mm\": (110,500),\n",
    "        \"legend\": True,\n",
    "        \"ncols\": 6,\n",
    "        \"bbox\": (0, 0.66, 1, 0.5),\n",
    "        \"cmap\": mod_cmap,\n",
    "    },\n",
    "    {\n",
    "        \"folder\": \"results/finalTests/split-coldStart-latency-6x300\",\n",
    "        \"billed_mm\": (6500,28000),\n",
    "        \"rr_mm\": (3200,10000),\n",
    "        \"legend\": False,\n",
    "        \"ncols\": 4,\n",
    "        \"bbox\": None,\n",
    "        \"cmap\": orig_cmap,\n",
    "    },\n",
    "    {\n",
    "        \"folder\": \"results/finalTests/split-normal-latency-5x1000\",\n",
    "        \"billed_mm\": (0,12000),\n",
    "        \"rr_mm\": (2900,3400),\n",
    "        \"legend\": True,\n",
    "        \"ncols\": 4,\n",
    "        \"bbox\": (0, 0.66, 1, 0.5),\n",
    "        \"cmap\": orig_cmap,\n",
    "    }\n",
    "]\n",
    "\n",
    "for test in final_tests:\n",
    "    results_dir = test[\"folder\"]\n",
    "    json_files = [pos_json for pos_json in os.listdir(results_dir) if pos_json.endswith('.json')]\n",
    "    data = []\n",
    "    for index, json_fn in enumerate(json_files):\n",
    "        with open(os.path.join(results_dir, json_fn)) as in_file:\n",
    "            fusion_group = json_fn.removesuffix('.json')\n",
    "            content = json.load(in_file)\n",
    "            print(f'Read fusion group {fusion_group} with {len(content)} lines')\n",
    "            data.extend(content)\n",
    "\n",
    "    (df,grouped,order) = df_grouped_order_from_data(data)\n",
    "\n",
    "    if \"legend_font\" in test:\n",
    "        p = save_plots(grouped=grouped, fusion_groups_order=order, billed_min_max=test[\"billed_mm\"], rr_min_max=test[\"rr_mm\"], legend=test[\"legend\"], ncols=test[\"ncols\"], bbox=test[\"bbox\"], legend_font=test[\"legend_font\"], cmap=test[\"cmap\"])\n",
    "        p.show()\n",
    "        save_fig(p, \"all\", results_dir)\n",
    "    else:\n",
    "        p = save_plots(grouped,order, test[\"billed_mm\"], test[\"rr_mm\"], legend=test[\"legend\"], ncols=test[\"ncols\"], bbox=test[\"bbox\"], cmap=test[\"cmap\"])\n",
    "        p.show()\n",
    "        save_fig(p, \"all\", results_dir)\n"
   ]
  }
 ],
 "metadata": {
  "interpreter": {
   "hash": "e7370f93d1d0cde622a1f8e1c04877d8463912d04d973331ad4851f04de6915a"
  },
  "kernelspec": {
   "display_name": "Python 3.10.2 64-bit",
   "language": "python",
   "name": "python3"
  },
  "language_info": {
   "codemirror_mode": {
    "name": "ipython",
    "version": 3
   },
   "file_extension": ".py",
   "mimetype": "text/x-python",
   "name": "python",
   "nbconvert_exporter": "python",
   "pygments_lexer": "ipython3",
   "version": "3.9.10"
  },
  "orig_nbformat": 4
 },
 "nbformat": 4,
 "nbformat_minor": 2
}
