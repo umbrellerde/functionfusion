{
 "cells": [
  {
   "cell_type": "code",
   "execution_count": null,
   "metadata": {},
   "outputs": [],
   "source": []
  },
  {
   "cell_type": "code",
   "execution_count": 63,
   "metadata": {},
   "outputs": [],
   "source": [
    "import numpy as np\n",
    "import pandas as pd\n",
    "import seaborn as sns\n",
    "from matplotlib import pyplot as plt\n",
    "import matplotlib\n",
    "%matplotlib inline\n",
    "\n",
    "sns.set(rc={'figure.figsize':(6,3)}, font_scale=1.0, style='whitegrid', font='CMU Sans Serif')\n",
    "matplotlib.rcParams['pdf.fonttype'] = 42\n",
    "matplotlib.rcParams['ps.fonttype'] = 42\n",
    "plt.rc('axes', unicode_minus=False)\n",
    "\n",
    "def df_grouped_order_from_data(data):\n",
    "    df = pd.DataFrame.from_dict(data)\n",
    "    # Get the smallest Start timestamp and remove it from every timestamp value\n",
    "    min_start_timestamp = df[\"startTimestamp\"].min()\n",
    "    df[\"startTimestamp\"] = df[\"startTimestamp\"] - min_start_timestamp\n",
    "    df[\"endTimestamp\"] = df[\"endTimestamp\"] - min_start_timestamp\n",
    "    df[\"duration\"] =  df[\"endTimestamp\"] - df[\"startTimestamp\"]\n",
    "    df[\"fusionGroup\"] = \"(\" + df[\"fusionGroup\"].str.replace(\",\", \")-(\") + \")\"\n",
    "    df[\"fusionGroup\"] = df[\"fusionGroup\"].str.replace(\".\", \",\")\n",
    "\n",
    "    # Now do not count every invocation, but sort the df by the cost of trace\n",
    "    grouped = df.groupby('traceId').agg({'billedDuration': ['sum'], 'startTimestamp': ['min'], 'endTimestamp': ['max'], 'fusionGroup': 'min'})\n",
    "    #grouped['numInvocations'] = df.groupby('traceId').count()\n",
    "    grouped['numInvocations'] = df.groupby('traceId').size()\n",
    "    print(f'Total Number of Invocations should be: {grouped[\"numInvocations\"].sum()} == {len(df.index)}')\n",
    "    # Grouped: Get Root Invocation of TraceId and get rootEndTimestamp\n",
    "    # Pandas join() oder merge() machen mit dem alten Dataframe. Merge ist einfacher\n",
    "    rootInvocations = df[df[\"isRootInvocation\"]][[\"traceId\", \"endTimestamp\"]].rename(columns={\"endTimestamp\": \"rootEndTimestamp\"})\n",
    "    grouped = pd.merge(grouped, rootInvocations, how=\"left\", on=\"traceId\")\n",
    "    grouped[\"rootDuration\"] = grouped[\"rootEndTimestamp\"] - grouped[\"startTimestamp\", \"min\"]\n",
    "\n",
    "    fusion_groups_order = pd.unique(grouped.sort_values(by=\"rootEndTimestamp\")['fusionGroup', 'min'])\n",
    "    return (df,grouped,fusion_groups_order)"
   ]
  },
  {
   "cell_type": "code",
   "execution_count": 64,
   "metadata": {},
   "outputs": [],
   "source": [
    "def save_fig(ax, name, folder, file_type=\"pdf\"):\n",
    "    fig = ax.get_figure()\n",
    "    fig.tight_layout()\n",
    "    file_name = name + \".\" + file_type\n",
    "    fig.savefig(os.path.join(folder, file_name), bbox_inches='tight')\n",
    "    plt.close()\n",
    "\n",
    "def save_plots(df, grouped, fusion_groups_order, billed_min_max, rr_min_max, folder):\n",
    "    #plot, axes = plt.subplot(2, 1, figsize=(6,3), sharex=True)\n",
    "\n",
    "    ax = sns.ecdfplot(data=grouped, x=grouped['billedDuration', 'sum'], hue=grouped['fusionGroup', 'min'], hue_order=fusion_groups_order)\n",
    "    plt.xlabel(\"billed duration [ms]\")\n",
    "    plt.ylabel(\"Cumulative Distribution\")\n",
    "    ax.get_legend().set_title(\"Fusion Setup\")\n",
    "    ax.set(xlim=billed_min_max)\n",
    "    save_fig(ax, \"ecdfBilled\", folder)\n",
    "    #plt.savefig(\"ecdfBilled.pdf\")\n",
    "\n",
    "    ax = sns.ecdfplot(data=grouped, x=grouped['rootDuration'], hue=grouped['fusionGroup', 'min'], hue_order=fusion_groups_order, legend=None)\n",
    "    plt.xlabel(\"request response latency [ms]\")\n",
    "    #ax.get_legend().set_title(\"Fusion Group\")\n",
    "    ax.set(xlim=rr_min_max)\n",
    "    save_fig(ax, \"ecdfRR\", folder)"
   ]
  },
  {
   "cell_type": "code",
   "execution_count": 65,
   "metadata": {},
   "outputs": [],
   "source": [
    "from scipy.stats import t\n",
    "def printMeanAndCi(x, grouped, name=\"\"):\n",
    "    m = x.mean() \n",
    "    s = x.std() \n",
    "    dof = len(grouped)-1 \n",
    "    confidence = 0.95\n",
    "\n",
    "    t_crit = np.abs(t.ppf((1-confidence)/2,dof))\n",
    "    print(f'Mean: {m:7.2f}, Confidence Interval: ({m-s*t_crit/np.sqrt(len(x)):7.2f} / {m+s*t_crit/np.sqrt(len(x)):7.2f}), Median: {x.median()} for {name}')\n",
    "\n",
    "def printStats(grouped, fusion_groups_order):\n",
    "    print(\"overall\")\n",
    "    printMeanAndCi(grouped[\"rootDuration\"], grouped, \"rootDuration\")\n",
    "    printMeanAndCi(grouped['billedDuration', 'sum'], grouped, \"billedDuration\")\n",
    "    for group in fusion_groups_order:\n",
    "        filtered = grouped[grouped['fusionGroup', 'min'] == group]\n",
    "        print(group)\n",
    "        printMeanAndCi(filtered[\"rootDuration\"], grouped, f'rootDuration')\n",
    "        printMeanAndCi(filtered['billedDuration', 'sum'], grouped, f'billedDuration')"
   ]
  },
  {
   "cell_type": "code",
   "execution_count": 66,
   "metadata": {},
   "outputs": [
    {
     "name": "stdout",
     "output_type": "stream",
     "text": [
      "Read fusion group AS,CA.DJ,CS.CSA.CSL,CT,CW,I,SE with 2398 lines\n",
      "Read fusion group AS,CA.DJ,CS,CSA,CSL,CT,CW,I,SE with 2994 lines\n",
      "Read fusion group AS,CA.DJ,CS.CSA.CSL,CT,CW.I.SE with 3595 lines\n",
      "Read fusion group AS,CA.DJ,CS.CSA,CSL,CT,CW,I,SE with 2697 lines\n",
      "Read fusion group AS,CA.DJ,CS.CSA.CSL,CT,CW.SE,I with 2400 lines\n",
      "Read fusion group AS,CA,CS,CSA,CSL,CT,CW,DJ,I,SE with 3291 lines\n"
     ]
    },
    {
     "name": "stderr",
     "output_type": "stream",
     "text": [
      "/tmp/ipykernel_651141/4108050574.py:21: FutureWarning: The default value of regex will change from True to False in a future version. In addition, single character regular expressions will *not* be treated as literal strings when regex=True.\n",
      "  df[\"fusionGroup\"] = df[\"fusionGroup\"].str.replace(\".\", \",\")\n",
      "/tmp/ipykernel_651141/4108050574.py:31: FutureWarning: merging between different levels is deprecated and will be removed in a future version. (2 levels on the left, 1 on the right)\n",
      "  grouped = pd.merge(grouped, rootInvocations, how=\"left\", on=\"traceId\")\n"
     ]
    },
    {
     "name": "stdout",
     "output_type": "stream",
     "text": [
      "Total Number of Invocations should be: 17375 == 17375\n",
      "Read fusion group AS,CA.DJ,CS.CSA.CSL,CT,CW,I,SE with 7676 lines\n",
      "Read fusion group AS,CA.DJ,CS,CSA,CSL,CT,CW,I,SE with 9543 lines\n",
      "Read fusion group AS,CA.DJ,CS.CSA.CSL,CT,CW.I.SE with 11577 lines\n",
      "Read fusion group AS,CA.DJ,CS.CSA,CSL,CT,CW,I,SE with 8665 lines\n",
      "Read fusion group AS,CA.DJ,CS.CSA.CSL,CT,CW.SE,I with 7701 lines\n",
      "Read fusion group AS,CA,CS,CSA,CSL,CT,CW,DJ,I,SE with 10479 lines\n"
     ]
    },
    {
     "name": "stderr",
     "output_type": "stream",
     "text": [
      "/tmp/ipykernel_651141/4108050574.py:21: FutureWarning: The default value of regex will change from True to False in a future version. In addition, single character regular expressions will *not* be treated as literal strings when regex=True.\n",
      "  df[\"fusionGroup\"] = df[\"fusionGroup\"].str.replace(\".\", \",\")\n"
     ]
    },
    {
     "name": "stdout",
     "output_type": "stream",
     "text": [
      "Total Number of Invocations should be: 55641 == 55641\n"
     ]
    },
    {
     "name": "stderr",
     "output_type": "stream",
     "text": [
      "/tmp/ipykernel_651141/4108050574.py:31: FutureWarning: merging between different levels is deprecated and will be removed in a future version. (2 levels on the left, 1 on the right)\n",
      "  grouped = pd.merge(grouped, rootInvocations, how=\"left\", on=\"traceId\")\n"
     ]
    },
    {
     "name": "stdout",
     "output_type": "stream",
     "text": [
      "Read fusion group A.D.E,B,C,F,G with 1799 lines\n",
      "Read fusion group A,B,C,D,E,F,G with 2050 lines\n",
      "Read fusion group A.B.D.E,C,F,G with 3594 lines\n",
      "Read fusion group A.E,B,C,D,F,G with 2100 lines\n",
      "Total Number of Invocations should be: 9543 == 9543\n"
     ]
    },
    {
     "name": "stderr",
     "output_type": "stream",
     "text": [
      "/tmp/ipykernel_651141/4108050574.py:21: FutureWarning: The default value of regex will change from True to False in a future version. In addition, single character regular expressions will *not* be treated as literal strings when regex=True.\n",
      "  df[\"fusionGroup\"] = df[\"fusionGroup\"].str.replace(\".\", \",\")\n",
      "/tmp/ipykernel_651141/4108050574.py:31: FutureWarning: merging between different levels is deprecated and will be removed in a future version. (2 levels on the left, 1 on the right)\n",
      "  grouped = pd.merge(grouped, rootInvocations, how=\"left\", on=\"traceId\")\n"
     ]
    },
    {
     "name": "stdout",
     "output_type": "stream",
     "text": [
      "Read fusion group A.D.E,B,C,F,G with 5891 lines\n",
      "Read fusion group A,B,C,D,E,F,G with 6891 lines\n",
      "Read fusion group A.B.D.E,C,F,G with 7824 lines\n",
      "Read fusion group A.E,B,C,D,F,G with 6844 lines\n"
     ]
    },
    {
     "name": "stderr",
     "output_type": "stream",
     "text": [
      "/tmp/ipykernel_651141/4108050574.py:21: FutureWarning: The default value of regex will change from True to False in a future version. In addition, single character regular expressions will *not* be treated as literal strings when regex=True.\n",
      "  df[\"fusionGroup\"] = df[\"fusionGroup\"].str.replace(\".\", \",\")\n"
     ]
    },
    {
     "name": "stdout",
     "output_type": "stream",
     "text": [
      "Total Number of Invocations should be: 27450 == 27450\n"
     ]
    },
    {
     "name": "stderr",
     "output_type": "stream",
     "text": [
      "/tmp/ipykernel_651141/4108050574.py:31: FutureWarning: merging between different levels is deprecated and will be removed in a future version. (2 levels on the left, 1 on the right)\n",
      "  grouped = pd.merge(grouped, rootInvocations, how=\"left\", on=\"traceId\")\n"
     ]
    }
   ],
   "source": [
    "import json\n",
    "import os\n",
    "\n",
    "final_tests = [\n",
    "    {\n",
    "        \"folder\": \"results/finalTests/IoT-coldStart-latency-7x300\",\n",
    "        \"billed_mm\": (5000,20000),\n",
    "        \"rr_mm\": (1000,4500),\n",
    "    },\n",
    "    {\n",
    "        \"folder\": \"results/finalTests/IoT-normal-latency-7x1000\",\n",
    "        \"billed_mm\": (0,3500),\n",
    "        \"rr_mm\": (100,600),\n",
    "    },\n",
    "    {\n",
    "        \"folder\": \"results/finalTests/split-coldStart-latency-6x300\",\n",
    "        \"billed_mm\": (5000,28000),\n",
    "        \"rr_mm\": (3000,10000),\n",
    "    },\n",
    "    {\n",
    "        \"folder\": \"results/finalTests/split-normal-latency-5x1000\",\n",
    "        \"billed_mm\": (0,12000),\n",
    "        \"rr_mm\": (2900,3400),\n",
    "    } \n",
    "]\n",
    "\n",
    "for test in final_tests:\n",
    "    results_dir = test[\"folder\"]\n",
    "    json_files = [pos_json for pos_json in os.listdir(results_dir) if pos_json.endswith('.json')]\n",
    "    data = []\n",
    "    for index, json_fn in enumerate(json_files):\n",
    "        with open(os.path.join(results_dir, json_fn)) as in_file:\n",
    "            fusion_group = json_fn.removesuffix('.json')\n",
    "            content = json.load(in_file)\n",
    "            print(f'Read fusion group {fusion_group} with {len(content)} lines')\n",
    "            data.extend(content)\n",
    "    \n",
    "    (df,grouped,order) = df_grouped_order_from_data(data)\n",
    "    save_plots(df,grouped,order, test[\"billed_mm\"], test[\"rr_mm\"], results_dir)\n",
    "    "
   ]
  }
 ],
 "metadata": {
  "interpreter": {
   "hash": "e7370f93d1d0cde622a1f8e1c04877d8463912d04d973331ad4851f04de6915a"
  },
  "kernelspec": {
   "display_name": "Python 3.10.2 64-bit",
   "language": "python",
   "name": "python3"
  },
  "language_info": {
   "codemirror_mode": {
    "name": "ipython",
    "version": 3
   },
   "file_extension": ".py",
   "mimetype": "text/x-python",
   "name": "python",
   "nbconvert_exporter": "python",
   "pygments_lexer": "ipython3",
   "version": "3.10.2"
  },
  "orig_nbformat": 4
 },
 "nbformat": 4,
 "nbformat_minor": 2
}
